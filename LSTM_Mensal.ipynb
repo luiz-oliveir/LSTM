{
  "nbformat": 4,
  "nbformat_minor": 0,
  "metadata": {
    "colab": {
      "provenance": [],
      "authorship_tag": "ABX9TyNBCv1VlytjVFn3xZ5k5GT3",
      "include_colab_link": true
    },
    "kernelspec": {
      "name": "python3",
      "display_name": "Python 3"
    },
    "language_info": {
      "name": "python"
    }
  },
  "cells": [
    {
      "cell_type": "markdown",
      "metadata": {
        "id": "view-in-github",
        "colab_type": "text"
      },
      "source": [
        "<a href=\"https://colab.research.google.com/github/luiz-oliveir/LSTM/blob/main/LSTM_Mensal.ipynb\" target=\"_parent\"><img src=\"https://colab.research.google.com/assets/colab-badge.svg\" alt=\"Open In Colab\"/></a>"
      ]
    },
    {
      "cell_type": "code",
      "execution_count": null,
      "metadata": {
        "id": "6WGkC8vAg3yD"
      },
      "outputs": [],
      "source": [
        "import os\n",
        "import pandas as pd\n",
        "import numpy as np\n",
        "import glob\n",
        "from datetime import datetime\n",
        "\n",
        "def processar_arquivo(arquivo_entrada):\n",
        "    \"\"\"Processa um arquivo de resultados e gera análise mensal\"\"\"\n",
        "    print(f\"\\nProcessando arquivo: {arquivo_entrada}\")\n",
        "\n",
        "    try:\n",
        "        # Ler o arquivo Excel\n",
        "        df = pd.read_excel(arquivo_entrada)\n",
        "\n",
        "        # Converter coluna de data\n",
        "        df['Data'] = pd.to_datetime(df.iloc[:, 0])\n",
        "        df['Mes'] = df['Data'].dt.month\n",
        "\n",
        "        # Criar nome do arquivo de saída\n",
        "        nome_saida = f'resultados_mensais_{os.path.basename(arquivo_entrada)}'\n",
        "        caminho_saida = os.path.join('C:/Users/Augusto-PC/Documents/GitHub/LSTM/LSTM_mensal', nome_saida)\n",
        "\n",
        "        # Dicionário de meses\n",
        "        meses = {\n",
        "            1:'jan', 2:'fev', 3:'mar', 4:'abr', 5:'mai', 6:'jun',\n",
        "            7:'jul', 8:'ago', 9:'set', 10:'out', 11:'nov', 12:'dez'\n",
        "        }\n",
        "\n",
        "        # Processar cada mês\n",
        "        with pd.ExcelWriter(caminho_saida, engine='openpyxl') as writer:\n",
        "            for mes, nome_mes in meses.items():\n",
        "                # Filtrar dados do mês\n",
        "                dados_mes = df[df['Mes'] == mes].copy()\n",
        "\n",
        "                if not dados_mes.empty:\n",
        "                    # Remover coluna auxiliar de mês\n",
        "                    if 'Mes' in dados_mes.columns:\n",
        "                        dados_mes = dados_mes.drop('Mes', axis=1)\n",
        "\n",
        "                    # Salvar na planilha\n",
        "                    dados_mes.to_excel(writer, sheet_name=nome_mes, index=False)\n",
        "                    print(f\"Dados salvos para {nome_mes}\")\n",
        "\n",
        "        print(f\"Arquivo processado e salvo em: {caminho_saida}\")\n",
        "        return True\n",
        "\n",
        "    except Exception as e:\n",
        "        print(f\"Erro ao processar arquivo {arquivo_entrada}: {str(e)}\")\n",
        "        return False\n",
        "\n",
        "def main():\n",
        "    # Criar diretório de saída se não existir\n",
        "    os.makedirs('C:/Users/Augusto-PC/Documents/GitHub/LSTM/LSTM_mensal', exist_ok=True)\n",
        "\n",
        "    # Procurar arquivos Excel no diretório de resultados\n",
        "    diretorio_resultados = 'C:/Users/Augusto-PC/Documents/GitHub/LSTM/Resumo resultados'\n",
        "    arquivos = glob.glob(os.path.join(diretorio_resultados, '*.xlsx'))\n",
        "\n",
        "    if not arquivos:\n",
        "        print(\"Nenhum arquivo Excel encontrado para processar!\")\n",
        "        return\n",
        "\n",
        "    # Processar cada arquivo\n",
        "    for arquivo in arquivos:\n",
        "        processar_arquivo(arquivo)\n",
        "\n",
        "if __name__ == \"__main__\":\n",
        "    main()\n"
      ]
    }
  ]
}