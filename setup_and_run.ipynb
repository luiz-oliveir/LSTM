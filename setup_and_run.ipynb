{
  "nbformat": 4,
  "nbformat_minor": 0,
  "metadata": {
    "colab": {
      "provenance": [],
      "gpuType": "T4",
      "authorship_tag": "ABX9TyOIZS61dKTNTPfbCk046DwV",
      "include_colab_link": true
    },
    "kernelspec": {
      "name": "python3",
      "display_name": "Python 3"
    },
    "language_info": {
      "name": "python"
    },
    "accelerator": "GPU"
  },
  "cells": [
    {
      "cell_type": "markdown",
      "metadata": {
        "id": "view-in-github",
        "colab_type": "text"
      },
      "source": [
        "<a href=\"https://colab.research.google.com/github/luiz-oliveir/LSTM/blob/main/setup_and_run.ipynb\" target=\"_parent\"><img src=\"https://colab.research.google.com/assets/colab-badge.svg\" alt=\"Open In Colab\"/></a>"
      ]
    },
    {
      "cell_type": "code",
      "source": [
        "# Remove existing LSTM directory if it exists\n",
        "!rm -rf LSTM\n",
        "\n",
        "# Clone the repository\n",
        "!git clone https://github.com/luiz-oliveir/LSTM.git\n",
        "\n",
        "# Change to the correct directory\n",
        "%cd LSTM"
      ],
      "metadata": {
        "id": "7MSwMb8PwQwE"
      },
      "execution_count": null,
      "outputs": []
    },
    {
      "cell_type": "code",
      "source": [
        "%%writefile requirements.txt\n",
        "tensorflow>=2.8.0\n",
        "numpy>=1.19.2\n",
        "pandas>=1.3.0\n",
        "scikit-learn>=0.24.2\n",
        "keras-tuner>=1.1.0\n",
        "matplotlib>=3.4.3"
      ],
      "metadata": {
        "colab": {
          "base_uri": "https://localhost:8080/"
        },
        "id": "LssxF0eNwV0c",
        "outputId": "b744c0fb-90e6-4a4a-8a23-2acfe58f1a90"
      },
      "execution_count": null,
      "outputs": [
        {
          "output_type": "stream",
          "name": "stdout",
          "text": [
            "Writing requirements.txt\n"
          ]
        }
      ]
    },
    {
      "cell_type": "code",
      "source": [
        "# Install requirements\n",
        "!pip install -r requirements.txt\n",
        "\n",
        "# Create data directory\n",
        "!mkdir -p \"Convencionais processadas temperaturas\""
      ],
      "metadata": {
        "id": "-Euw0Sy1wh2P"
      },
      "execution_count": null,
      "outputs": []
    },
    {
      "cell_type": "code",
      "source": [
        "import sys\n",
        "import os\n",
        "import subprocess\n",
        "import shutil\n",
        "from pathlib import Path\n",
        "import time\n",
        "from IPython.display import display, HTML\n",
        "\n",
        "# Check if running in Colab\n",
        "try:\n",
        "    import google.colab\n",
        "    IN_COLAB = True\n",
        "except ImportError:\n",
        "    IN_COLAB = False\n",
        "\n",
        "def run_command(cmd, check=True, shell=False):\n",
        "    \"\"\"Helper function to run commands and handle errors\"\"\"\n",
        "    try:\n",
        "        print(f\"Executando comando: {' '.join(str(x) for x in cmd)}\")\n",
        "        result = subprocess.run(cmd, check=check, shell=shell,\n",
        "                            stdout=subprocess.PIPE,\n",
        "                            stderr=subprocess.PIPE,\n",
        "                            universal_newlines=True)\n",
        "        print(f\"Output: {result.stdout}\")\n",
        "        return result\n",
        "    except subprocess.CalledProcessError as e:\n",
        "        print(f\"Command failed: {' '.join(str(x) for x in cmd)}\")\n",
        "        print(f\"Error output: {e.stderr}\")\n",
        "        return None\n",
        "\n",
        "def clone_repository():\n",
        "    \"\"\"Clone the GitHub repository if in Colab\"\"\"\n",
        "    if IN_COLAB:\n",
        "        # Change to /content directory\n",
        "        os.chdir('/content')\n",
        "\n",
        "        # Remove existing directory if it exists\n",
        "        if os.path.exists('/content/LSTM'):\n",
        "            print(\"Removing existing repository...\")\n",
        "            shutil.rmtree('/content/LSTM')\n",
        "\n",
        "        print(\"Cloning repository...\")\n",
        "        # Clone the repository\n",
        "        cmd = [\"git\", \"clone\", \"https://github.com/luiz-oliveir/LSTM.git\"]\n",
        "        result = run_command(cmd)\n",
        "\n",
        "        if result is None or result.returncode != 0:\n",
        "            print(\"Failed to clone repository\")\n",
        "            return False\n",
        "\n",
        "        print(\"Repository cloned successfully\")\n",
        "        return True\n",
        "    return True\n",
        "\n",
        "def get_project_dir():\n",
        "    \"\"\"Get the project directory in Google Colab or local environment\"\"\"\n",
        "    if IN_COLAB:\n",
        "        project_dir = Path('/content/LSTM')\n",
        "    else:\n",
        "        # For local environment, use the current script's directory\n",
        "        project_dir = Path(os.path.dirname(os.path.abspath(__file__)))\n",
        "\n",
        "    print(f\"Environment: {'Google Colab' if IN_COLAB else 'Local Windows'}\")\n",
        "    print(f\"Project directory: {project_dir}\")\n",
        "    print(f\"Path exists: {project_dir.exists()}\")\n",
        "\n",
        "    if not project_dir.exists():\n",
        "        print(\"Project directory not found\")\n",
        "        return None\n",
        "\n",
        "    print(f\"Directory contents: {[f.name for f in project_dir.iterdir()]}\")\n",
        "\n",
        "    return project_dir\n",
        "\n",
        "def setup_environment():\n",
        "    \"\"\"Setup the Python environment with required packages\"\"\"\n",
        "    if not clone_repository():\n",
        "        return False\n",
        "\n",
        "    project_dir = get_project_dir()\n",
        "    if not project_dir:\n",
        "        print(\"Failed to locate project directory\")\n",
        "        return False\n",
        "\n",
        "    # Set data directory based on environment\n",
        "    if IN_COLAB:\n",
        "        # Change to project directory to ensure we can find requirements.txt\n",
        "        os.chdir(project_dir)\n",
        "\n",
        "        data_dir = os.path.join(project_dir, 'Convencionais processadas temperaturas')\n",
        "        os.makedirs(data_dir, exist_ok=True)\n",
        "\n",
        "        print(\"\\nPreparing Colab environment...\")\n",
        "\n",
        "        # Install required packages for Colab\n",
        "        print(\"\\nInstalando dependências...\")\n",
        "        requirements_path = os.path.join(project_dir, 'requirements.txt')\n",
        "        if not os.path.exists(requirements_path):\n",
        "            print(f\"Creating requirements.txt at {requirements_path}\")\n",
        "            requirements = \"\"\"tensorflow>=2.8.0\n",
        "numpy>=1.19.2\n",
        "pandas>=1.3.0\n",
        "scikit-learn>=0.24.2\n",
        "keras-tuner>=1.1.0\n",
        "matplotlib>=3.4.3\"\"\"\n",
        "            with open(requirements_path, 'w') as f:\n",
        "                f.write(requirements)\n",
        "\n",
        "        cmd = [sys.executable, \"-m\", \"pip\", \"install\", \"-r\", \"requirements.txt\"]\n",
        "        result = run_command(cmd)\n",
        "        if not result or result.returncode != 0:\n",
        "            print(\"Failed to install requirements\")\n",
        "            return False\n",
        "\n",
        "        # Display upload instructions with HTML formatting\n",
        "        upload_instructions = \"\"\"\n",
        "        <div style='background-color: #f0f0f0; padding: 15px; border-radius: 5px; margin: 10px 0;'>\n",
        "            <h3 style='color: #2c5282;'>📤 Upload dos Arquivos Excel</h3>\n",
        "            <p><b>Siga os passos abaixo:</b></p>\n",
        "            <ol>\n",
        "                <li>Clique no ícone de pasta 📁 no menu lateral esquerdo do Colab</li>\n",
        "                <li>Navegue até a pasta: <code>content/LSTM/Convencionais processadas temperaturas</code></li>\n",
        "                <li>Faça upload dos seus arquivos Excel</li>\n",
        "            </ol>\n",
        "            <p style='color: #718096;'><i>Aguardando upload dos arquivos...</i></p>\n",
        "        </div>\n",
        "        \"\"\"\n",
        "        display(HTML(upload_instructions))\n",
        "\n",
        "        # Wait for file upload confirmation\n",
        "        while True:\n",
        "            excel_files = [f for f in os.listdir(data_dir) if f.endswith('.xlsx')]\n",
        "            if excel_files:\n",
        "                print(f\"\\n✅ Encontrados {len(excel_files)} arquivos Excel:\")\n",
        "                for f in excel_files[:5]:\n",
        "                    print(f\"  - {f}\")\n",
        "                if len(excel_files) > 5:\n",
        "                    print(f\"  ... e mais {len(excel_files)-5} arquivos\")\n",
        "                break\n",
        "            time.sleep(2)  # Check every 2 seconds\n",
        "\n",
        "    else:\n",
        "        data_dir = os.path.join(os.path.dirname(os.path.abspath(__file__)), 'Convencionais processadas temperaturas')\n",
        "        os.makedirs(data_dir, exist_ok=True)\n",
        "\n",
        "        print(f\"\\nChecking data directory: {data_dir}\")\n",
        "        excel_files = [f for f in os.listdir(data_dir) if f.endswith('.xlsx')]\n",
        "\n",
        "        if not excel_files:\n",
        "            print(\"\\nWARNING: No Excel files found in the data directory\")\n",
        "            print(f\"Please ensure your Excel files are in: {data_dir}\")\n",
        "            return False\n",
        "\n",
        "        print(f\"\\nFound {len(excel_files)} Excel files\")\n",
        "\n",
        "    # Store the data directory path\n",
        "    with open(os.path.join(project_dir, 'data_path.txt'), 'w') as f:\n",
        "        f.write(str(data_dir))  # Convert Path to string\n",
        "    print(f\"\\nStored data path in data_path.txt\")\n",
        "\n",
        "    return True\n",
        "\n",
        "def run_notebook():\n",
        "    \"\"\"Run the main notebook\"\"\"\n",
        "    try:\n",
        "        project_dir = get_project_dir()\n",
        "        if not project_dir:\n",
        "            return False\n",
        "\n",
        "        # Try both filename variants\n",
        "        notebook_variants = [\n",
        "            'LSTM_VAE_com_ajustes.ipynb',\n",
        "            'LSTM_VAE com ajustes.ipynb'\n",
        "        ]\n",
        "\n",
        "        notebook_path = None\n",
        "        for variant in notebook_variants:\n",
        "            temp_path = os.path.join(project_dir, variant)\n",
        "            if os.path.exists(temp_path):\n",
        "                notebook_path = temp_path\n",
        "                break\n",
        "\n",
        "        if not notebook_path:\n",
        "            print(f\"Error: Notebook not found. Tried:\")\n",
        "            for variant in notebook_variants:\n",
        "                print(f\"  - {os.path.join(project_dir, variant)}\")\n",
        "            return False\n",
        "\n",
        "        if IN_COLAB:\n",
        "            print(\"\\nExecutando o notebook no Colab...\")\n",
        "            from google.colab import files\n",
        "            import nbformat\n",
        "            from IPython.display import display\n",
        "            from IPython import get_ipython\n",
        "\n",
        "            # Ensure we're in the project directory\n",
        "            os.chdir(project_dir)\n",
        "\n",
        "            # Carregar o notebook\n",
        "            with open(notebook_path, encoding='utf-8') as f:\n",
        "                nb = nbformat.read(f, as_version=4)\n",
        "\n",
        "            # Executar cada célula do notebook\n",
        "            for cell in nb.cells:\n",
        "                if cell.cell_type == 'code':\n",
        "                    print(\"\\nExecutando célula:\", cell.source[:50] + \"...\" if len(cell.source) > 50 else cell.source)\n",
        "                    try:\n",
        "                        get_ipython().run_cell(cell.source)\n",
        "                    except SystemExit:\n",
        "                        # Ignore SystemExit exceptions\n",
        "                        pass\n",
        "                    except Exception as e:\n",
        "                        print(f\"Erro ao executar célula: {str(e)}\")\n",
        "                        raise\n",
        "\n",
        "            print(\"\\nNotebook executado com sucesso!\")\n",
        "        else:\n",
        "            print(f\"\\nNotebook path: {notebook_path}\")\n",
        "            print(\"Please open and run the notebook in Jupyter.\")\n",
        "\n",
        "        return True\n",
        "\n",
        "    except Exception as e:\n",
        "        print(f\"Error running notebook: {str(e)}\")\n",
        "        import traceback\n",
        "        traceback.print_exc()\n",
        "        return False\n",
        "\n",
        "if __name__ == '__main__':\n",
        "    print(\"Starting setup in\", \"Google Colab\" if IN_COLAB else \"Local Windows environment\")\n",
        "    if setup_environment():\n",
        "        run_notebook()\n",
        "    else:\n",
        "        print(\"\\nSetup failed. Please check the error messages above.\")"
      ],
      "metadata": {
        "id": "CLZVqjSOWkib",
        "outputId": "c2bb377e-2ce2-4bd7-b3e3-4e9c539fa656",
        "colab": {
          "base_uri": "https://localhost:8080/",
          "height": 744
        }
      },
      "execution_count": 28,
      "outputs": [
        {
          "output_type": "stream",
          "name": "stdout",
          "text": [
            "Trial 5 Complete [00h 00m 25s]\n",
            "val_loss: 7.291548252105713\n",
            "\n",
            "Best val_loss So Far: 3.337979316711426\n",
            "Total elapsed time: 00h 02m 20s\n",
            "\n",
            "Melhores hiperparâmetros encontrados:\n",
            "LSTM dim: 32\n",
            "Z dim: 8\n",
            "Learning rate: 0.01\n"
          ]
        },
        {
          "output_type": "stream",
          "name": "stderr",
          "text": [
            "/usr/local/lib/python3.11/dist-packages/keras/src/saving/saving_lib.py:757: UserWarning: Skipping variable loading for optimizer 'loss_scale_optimizer', because it has 4 variables whereas the saved optimizer has 38 variables. \n",
            "  saveable.load_own_variables(weights_store.get(inner_path))\n",
            "/usr/local/lib/python3.11/dist-packages/keras/src/saving/saving_lib.py:757: UserWarning: Skipping variable loading for optimizer 'adam', because it has 2 variables whereas the saved optimizer has 34 variables. \n",
            "  saveable.load_own_variables(weights_store.get(inner_path))\n"
          ]
        },
        {
          "output_type": "display_data",
          "data": {
            "text/plain": [
              "\u001b[1mModel: \"lstm_vae\"\u001b[0m\n"
            ],
            "text/html": [
              "<pre style=\"white-space:pre;overflow-x:auto;line-height:normal;font-family:Menlo,'DejaVu Sans Mono',consolas,'Courier New',monospace\"><span style=\"font-weight: bold\">Model: \"lstm_vae\"</span>\n",
              "</pre>\n"
            ]
          },
          "metadata": {}
        },
        {
          "output_type": "display_data",
          "data": {
            "text/plain": [
              "┏━━━━━━━━━━━━━━━━━━━━━━━━━━━━━━━━━━━━━━┳━━━━━━━━━━━━━━━━━━━━━━━━━━━━━┳━━━━━━━━━━━━━━━━━┓\n",
              "┃\u001b[1m \u001b[0m\u001b[1mLayer (type)                        \u001b[0m\u001b[1m \u001b[0m┃\u001b[1m \u001b[0m\u001b[1mOutput Shape               \u001b[0m\u001b[1m \u001b[0m┃\u001b[1m \u001b[0m\u001b[1m        Param #\u001b[0m\u001b[1m \u001b[0m┃\n",
              "┡━━━━━━━━━━━━━━━━━━━━━━━━━━━━━━━━━━━━━━╇━━━━━━━━━━━━━━━━━━━━━━━━━━━━━╇━━━━━━━━━━━━━━━━━┩\n",
              "│ encoder (\u001b[38;5;33mEncoder\u001b[0m)                    │ ?                           │           \u001b[38;5;34m6,320\u001b[0m │\n",
              "├──────────────────────────────────────┼─────────────────────────────┼─────────────────┤\n",
              "│ decoder (\u001b[38;5;33mDecoder\u001b[0m)                    │ ?                           │           \u001b[38;5;34m5,512\u001b[0m │\n",
              "├──────────────────────────────────────┼─────────────────────────────┼─────────────────┤\n",
              "│ sampling_1 (\u001b[38;5;33mSampling\u001b[0m)                │ ?                           │               \u001b[38;5;34m0\u001b[0m │\n",
              "└──────────────────────────────────────┴─────────────────────────────┴─────────────────┘\n"
            ],
            "text/html": [
              "<pre style=\"white-space:pre;overflow-x:auto;line-height:normal;font-family:Menlo,'DejaVu Sans Mono',consolas,'Courier New',monospace\">┏━━━━━━━━━━━━━━━━━━━━━━━━━━━━━━━━━━━━━━┳━━━━━━━━━━━━━━━━━━━━━━━━━━━━━┳━━━━━━━━━━━━━━━━━┓\n",
              "┃<span style=\"font-weight: bold\"> Layer (type)                         </span>┃<span style=\"font-weight: bold\"> Output Shape                </span>┃<span style=\"font-weight: bold\">         Param # </span>┃\n",
              "┡━━━━━━━━━━━━━━━━━━━━━━━━━━━━━━━━━━━━━━╇━━━━━━━━━━━━━━━━━━━━━━━━━━━━━╇━━━━━━━━━━━━━━━━━┩\n",
              "│ encoder (<span style=\"color: #0087ff; text-decoration-color: #0087ff\">Encoder</span>)                    │ ?                           │           <span style=\"color: #00af00; text-decoration-color: #00af00\">6,320</span> │\n",
              "├──────────────────────────────────────┼─────────────────────────────┼─────────────────┤\n",
              "│ decoder (<span style=\"color: #0087ff; text-decoration-color: #0087ff\">Decoder</span>)                    │ ?                           │           <span style=\"color: #00af00; text-decoration-color: #00af00\">5,512</span> │\n",
              "├──────────────────────────────────────┼─────────────────────────────┼─────────────────┤\n",
              "│ sampling_1 (<span style=\"color: #0087ff; text-decoration-color: #0087ff\">Sampling</span>)                │ ?                           │               <span style=\"color: #00af00; text-decoration-color: #00af00\">0</span> │\n",
              "└──────────────────────────────────────┴─────────────────────────────┴─────────────────┘\n",
              "</pre>\n"
            ]
          },
          "metadata": {}
        },
        {
          "output_type": "display_data",
          "data": {
            "text/plain": [
              "\u001b[1m Total params: \u001b[0m\u001b[38;5;34m11,832\u001b[0m (46.22 KB)\n"
            ],
            "text/html": [
              "<pre style=\"white-space:pre;overflow-x:auto;line-height:normal;font-family:Menlo,'DejaVu Sans Mono',consolas,'Courier New',monospace\"><span style=\"font-weight: bold\"> Total params: </span><span style=\"color: #00af00; text-decoration-color: #00af00\">11,832</span> (46.22 KB)\n",
              "</pre>\n"
            ]
          },
          "metadata": {}
        },
        {
          "output_type": "display_data",
          "data": {
            "text/plain": [
              "\u001b[1m Trainable params: \u001b[0m\u001b[38;5;34m11,832\u001b[0m (46.22 KB)\n"
            ],
            "text/html": [
              "<pre style=\"white-space:pre;overflow-x:auto;line-height:normal;font-family:Menlo,'DejaVu Sans Mono',consolas,'Courier New',monospace\"><span style=\"font-weight: bold\"> Trainable params: </span><span style=\"color: #00af00; text-decoration-color: #00af00\">11,832</span> (46.22 KB)\n",
              "</pre>\n"
            ]
          },
          "metadata": {}
        },
        {
          "output_type": "display_data",
          "data": {
            "text/plain": [
              "\u001b[1m Non-trainable params: \u001b[0m\u001b[38;5;34m0\u001b[0m (0.00 B)\n"
            ],
            "text/html": [
              "<pre style=\"white-space:pre;overflow-x:auto;line-height:normal;font-family:Menlo,'DejaVu Sans Mono',consolas,'Courier New',monospace\"><span style=\"font-weight: bold\"> Non-trainable params: </span><span style=\"color: #00af00; text-decoration-color: #00af00\">0</span> (0.00 B)\n",
              "</pre>\n"
            ]
          },
          "metadata": {}
        },
        {
          "output_type": "stream",
          "name": "stdout",
          "text": [
            "Threshold calculado: 4.43359375\n",
            "Salvando modelo e scaler...\n",
            "Modelo salvo em: ./lstm_vae_model/lstm_vae.weights.h5\n",
            "Scaler salvo em: ./lstm_vae_model/scaler.pkl\n",
            "Threshold salvo em: ./lstm_vae_model/threshold.npy\n",
            "Gerando visualizações...\n",
            "\n",
            "Resumo do processamento salvo em: C:/Users/Augusto-PC/Documents/GitHub/LSTM/Resumo resultados/resumo_processamento_20250301_165516.xlsx\n",
            "\n",
            "Treinamento concluído com sucesso!\n",
            "Modelo salvo em: ./lstm_vae_model/\n",
            "Visualizações salvas em: ./lstm_vae_images/\n",
            "\n",
            "Notebook executado com sucesso!\n"
          ]
        }
      ]
    }
  ]
}