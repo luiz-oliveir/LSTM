{
  "nbformat": 4,
  "nbformat_minor": 0,
  "metadata": {
    "colab": {
      "provenance": [],
      "authorship_tag": "ABX9TyMwALtquXYBwKt0Qkr1Z3x0",
      "include_colab_link": true
    },
    "kernelspec": {
      "name": "python3",
      "display_name": "Python 3"
    },
    "language_info": {
      "name": "python"
    }
  },
  "cells": [
    {
      "cell_type": "markdown",
      "metadata": {
        "id": "view-in-github",
        "colab_type": "text"
      },
      "source": [
        "<a href=\"https://colab.research.google.com/github/luiz-oliveir/LSTM/blob/main/setup_and_run.ipynb\" target=\"_parent\"><img src=\"https://colab.research.google.com/assets/colab-badge.svg\" alt=\"Open In Colab\"/></a>"
      ]
    },
    {
      "cell_type": "code",
      "source": [
        "!git clone https://github.com/luiz-oliveir/LSTM.git LSTM_new\n",
        "\n"
      ],
      "metadata": {
        "id": "50meiRc-DVoj",
        "outputId": "acfb274e-26fe-4357-aa78-71cf5c4c5a94",
        "colab": {
          "base_uri": "https://localhost:8080/"
        }
      },
      "execution_count": 28,
      "outputs": [
        {
          "output_type": "stream",
          "name": "stdout",
          "text": [
            "Cloning into 'LSTM_new'...\n",
            "remote: Enumerating objects: 26, done.\u001b[K\n",
            "remote: Counting objects:   3% (1/26)\u001b[K\rremote: Counting objects:   7% (2/26)\u001b[K\rremote: Counting objects:  11% (3/26)\u001b[K\rremote: Counting objects:  15% (4/26)\u001b[K\rremote: Counting objects:  19% (5/26)\u001b[K\rremote: Counting objects:  23% (6/26)\u001b[K\rremote: Counting objects:  26% (7/26)\u001b[K\rremote: Counting objects:  30% (8/26)\u001b[K\rremote: Counting objects:  34% (9/26)\u001b[K\rremote: Counting objects:  38% (10/26)\u001b[K\rremote: Counting objects:  42% (11/26)\u001b[K\rremote: Counting objects:  46% (12/26)\u001b[K\rremote: Counting objects:  50% (13/26)\u001b[K\rremote: Counting objects:  53% (14/26)\u001b[K\rremote: Counting objects:  57% (15/26)\u001b[K\rremote: Counting objects:  61% (16/26)\u001b[K\rremote: Counting objects:  65% (17/26)\u001b[K\rremote: Counting objects:  69% (18/26)\u001b[K\rremote: Counting objects:  73% (19/26)\u001b[K\rremote: Counting objects:  76% (20/26)\u001b[K\rremote: Counting objects:  80% (21/26)\u001b[K\rremote: Counting objects:  84% (22/26)\u001b[K\rremote: Counting objects:  88% (23/26)\u001b[K\rremote: Counting objects:  92% (24/26)\u001b[K\rremote: Counting objects:  96% (25/26)\u001b[K\rremote: Counting objects: 100% (26/26)\u001b[K\rremote: Counting objects: 100% (26/26), done.\u001b[K\n",
            "remote: Compressing objects:   4% (1/25)\u001b[K\rremote: Compressing objects:   8% (2/25)\u001b[K\rremote: Compressing objects:  12% (3/25)\u001b[K\rremote: Compressing objects:  16% (4/25)\u001b[K\rremote: Compressing objects:  20% (5/25)\u001b[K\rremote: Compressing objects:  24% (6/25)\u001b[K\rremote: Compressing objects:  28% (7/25)\u001b[K\rremote: Compressing objects:  32% (8/25)\u001b[K\rremote: Compressing objects:  36% (9/25)\u001b[K\rremote: Compressing objects:  40% (10/25)\u001b[K\rremote: Compressing objects:  44% (11/25)\u001b[K\rremote: Compressing objects:  48% (12/25)\u001b[K\rremote: Compressing objects:  52% (13/25)\u001b[K\rremote: Compressing objects:  56% (14/25)\u001b[K\rremote: Compressing objects:  60% (15/25)\u001b[K\rremote: Compressing objects:  64% (16/25)\u001b[K\rremote: Compressing objects:  68% (17/25)\u001b[K\rremote: Compressing objects:  72% (18/25)\u001b[K\rremote: Compressing objects:  76% (19/25)\u001b[K\rremote: Compressing objects:  80% (20/25)\u001b[K\rremote: Compressing objects:  84% (21/25)\u001b[K\rremote: Compressing objects:  88% (22/25)\u001b[K\rremote: Compressing objects:  92% (23/25)\u001b[K\rremote: Compressing objects:  96% (24/25)\u001b[K\rremote: Compressing objects: 100% (25/25)\u001b[K\rremote: Compressing objects: 100% (25/25), done.\u001b[K\n",
            "Receiving objects:   3% (1/26)\rremote: Total 26 (delta 10), reused 0 (delta 0), pack-reused 0 (from 0)\u001b[K\n",
            "Receiving objects:   7% (2/26)\rReceiving objects:  11% (3/26)\rReceiving objects:  15% (4/26)\rReceiving objects:  19% (5/26)\rReceiving objects:  23% (6/26)\rReceiving objects:  26% (7/26)\rReceiving objects:  30% (8/26)\rReceiving objects:  34% (9/26)\rReceiving objects:  38% (10/26)\rReceiving objects:  42% (11/26)\rReceiving objects:  46% (12/26)\rReceiving objects:  50% (13/26)\rReceiving objects:  53% (14/26)\rReceiving objects:  57% (15/26)\rReceiving objects:  61% (16/26)\rReceiving objects:  65% (17/26)\rReceiving objects:  69% (18/26)\rReceiving objects:  73% (19/26)\rReceiving objects:  76% (20/26)\rReceiving objects:  80% (21/26)\rReceiving objects:  84% (22/26)\rReceiving objects:  88% (23/26)\rReceiving objects:  92% (24/26)\rReceiving objects:  96% (25/26)\rReceiving objects: 100% (26/26)\rReceiving objects: 100% (26/26), 21.54 KiB | 10.77 MiB/s, done.\n",
            "Resolving deltas:   0% (0/10)\rResolving deltas:  10% (1/10)\rResolving deltas:  20% (2/10)\rResolving deltas:  30% (3/10)\rResolving deltas:  40% (4/10)\rResolving deltas:  50% (5/10)\rResolving deltas:  60% (6/10)\rResolving deltas:  70% (7/10)\rResolving deltas:  80% (8/10)\rResolving deltas:  90% (9/10)\rResolving deltas: 100% (10/10)\rResolving deltas: 100% (10/10), done.\n"
          ]
        }
      ]
    },
    {
      "cell_type": "code",
      "source": [
        "!git clone https://github.com/luiz-oliveir/LSTM.git"
      ],
      "metadata": {
        "id": "jy24BLVP70vG"
      },
      "execution_count": null,
      "outputs": []
    },
    {
      "cell_type": "code",
      "source": [
        "import sys\n",
        "import os\n",
        "import subprocess\n",
        "import shutil\n",
        "from pathlib import Path\n",
        "import time\n",
        "\n",
        "# Check if running in Colab\n",
        "try:\n",
        "    import google.colab\n",
        "    IN_COLAB = True\n",
        "except ImportError:\n",
        "    IN_COLAB = False\n",
        "\n",
        "def run_command(cmd, check=True, shell=False):\n",
        "    \"\"\"Helper function to run commands and handle errors\"\"\"\n",
        "    try:\n",
        "        print(f\"Executando comando: {' '.join(str(x) for x in cmd)}\")\n",
        "        result = subprocess.run(cmd, check=check, shell=shell,\n",
        "                            stdout=subprocess.PIPE,\n",
        "                            stderr=subprocess.PIPE,\n",
        "                            universal_newlines=True)\n",
        "        print(f\"Output: {result.stdout}\")\n",
        "        return result\n",
        "    except subprocess.CalledProcessError as e:\n",
        "        print(f\"Command failed: {' '.join(str(x) for x in cmd)}\")\n",
        "        print(f\"Error output: {e.stderr}\")\n",
        "        return None\n",
        "\n",
        "def clone_repository():\n",
        "    \"\"\"Clone the GitHub repository if in Colab\"\"\"\n",
        "    if IN_COLAB:\n",
        "        # Change to /content directory\n",
        "        os.chdir('/content')\n",
        "\n",
        "        # Remove existing directory if it exists\n",
        "        if os.path.exists('/content/Anomaly_Detect_LSTM_VAE'):\n",
        "            print(\"Removing existing repository...\")\n",
        "            shutil.rmtree('/content/Anomaly_Detect_LSTM_VAE')\n",
        "\n",
        "        print(\"Cloning repository...\")\n",
        "        # Clone the repository\n",
        "        cmd = [\"git\", \"clone\", \"https://github.com/luiz-oliveir/LSTM.git\"]\n",
        "        result = run_command(cmd)\n",
        "\n",
        "        if result is None or result.returncode != 0:\n",
        "            print(\"Failed to clone repository\")\n",
        "            return False\n",
        "\n",
        "        # Verify the repository was cloned\n",
        "        if not os.path.exists('/content/LSTM'):\n",
        "            print(\"Repository directory not found after cloning\")\n",
        "            return False\n",
        "\n",
        "        print(\"Repository cloned successfully\")\n",
        "        # Change to the repository directory\n",
        "        os.chdir('/content/LSTM')\n",
        "        return True\n",
        "    return True\n",
        "\n",
        "def get_project_dir():\n",
        "    \"\"\"Get the project directory in Google Colab or local environment\"\"\"\n",
        "    if IN_COLAB:\n",
        "        # In Colab, project should be in /content after cloning\n",
        "        colab_path = Path('/content/LSTM')\n",
        "        print(f\"Checking Colab path: {colab_path}\")\n",
        "        print(f\"Path exists: {colab_path.exists()}\")\n",
        "        if colab_path.exists():\n",
        "            req_file = colab_path / 'requirements.txt'\n",
        "            print(f\"Requirements file exists: {req_file.exists()}\")\n",
        "            if req_file.exists():\n",
        "                return colab_path\n",
        "        print(\"Project directory not found in Colab\")\n",
        "        print(\"Current directory:\", os.getcwd())\n",
        "        print(\"Directory contents:\", os.listdir())\n",
        "        return None\n",
        "    else:\n",
        "        # Local development paths\n",
        "        potential_locations = [\n",
        "            Path('C:/Users/Augusto-PC/Documents/GitHub/LSTM'),\n",
        "            Path(os.getcwd()),\n",
        "            Path(os.path.expanduser('~/LSTM'))\n",
        "        ]\n",
        "\n",
        "        for location in potential_locations:\n",
        "            try:\n",
        "                if location.exists() and (location / 'requirements.txt').exists():\n",
        "                    return location\n",
        "            except Exception:\n",
        "                continue\n",
        "\n",
        "        print(\"Could not find project directory containing requirements.txt\")\n",
        "        return None\n",
        "\n",
        "def setup_environment():\n",
        "    \"\"\"Setup the Python environment with required packages\"\"\"\n",
        "    if IN_COLAB:\n",
        "        print(\"Running in Google Colab environment\")\n",
        "        # Clone repository first if in Colab\n",
        "        if not clone_repository():\n",
        "            return False\n",
        "\n",
        "    project_dir = get_project_dir()\n",
        "    if project_dir is None:\n",
        "        print(\"Failed to locate project directory\")\n",
        "        return False\n",
        "\n",
        "    print(f\"Found project directory at: {project_dir}\")\n",
        "\n",
        "    # Install requirements\n",
        "    requirements_file = project_dir / 'requirements.txt'\n",
        "    if requirements_file.exists():\n",
        "        print(\"Installing requirements...\")\n",
        "        cmd = [sys.executable, \"-m\", \"pip\", \"install\", \"-r\", str(requirements_file)]\n",
        "        result = run_command(cmd)\n",
        "        if result is None:\n",
        "            return False\n",
        "    else:\n",
        "        print(f\"Requirements file not found at {requirements_file}\")\n",
        "        return False\n",
        "\n",
        "    return True\n",
        "\n",
        "def run_notebook(project_dir):\n",
        "    \"\"\"Run the main notebook\"\"\"\n",
        "    notebook_path = project_dir / 'LSTM_VAE com ajustes.ipynb'\n",
        "    if not notebook_path.exists():\n",
        "        print(f\"Notebook not found at {notebook_path}\")\n",
        "        return\n",
        "\n",
        "    print(f\"Running notebook: {notebook_path}\")\n",
        "    cmd = [\"jupyter\", \"nbconvert\",\n",
        "           \"--to\", \"notebook\",\n",
        "           \"--execute\",\n",
        "           \"--inplace\",\n",
        "           str(notebook_path)]\n",
        "    run_command(cmd)\n",
        "\n",
        "if __name__ == '__main__':\n",
        "    if setup_environment():\n",
        "        project_dir = get_project_dir()\n",
        "        if project_dir:\n",
        "            run_notebook(project_dir)"
      ],
      "metadata": {
        "id": "7J98WncW5ev_",
        "outputId": "8c371ef3-5f78-425f-c37a-a8b623a161b6",
        "colab": {
          "base_uri": "https://localhost:8080/"
        }
      },
      "execution_count": 29,
      "outputs": [
        {
          "output_type": "stream",
          "name": "stdout",
          "text": [
            "Running in Google Colab environment\n",
            "Cloning repository...\n",
            "Executando comando: git clone https://github.com/luiz-oliveir/LSTM.git\n",
            "Output: \n",
            "Repository cloned successfully\n",
            "Checking Colab path: /content/LSTM\n",
            "Path exists: True\n",
            "Requirements file exists: False\n",
            "Project directory not found in Colab\n",
            "Current directory: /content/LSTM\n",
            "Directory contents: ['.git', 'setup_and_run.ipynb', 'LSTM_VAE_com_ajustes.ipynb', 'setup_and_run-checkpoint.py', 'lstm_vae-checkpoint.py', 'Leiame.txt', 'README.md', 'LSTM_VAE com ajustes-checkpoint.py']\n",
            "Failed to locate project directory\n"
          ]
        }
      ]
    },
    {
      "cell_type": "code",
      "source": [
        "%cd LSTM"
      ],
      "metadata": {
        "colab": {
          "base_uri": "https://localhost:8080/"
        },
        "id": "fyVNTPomEKbg",
        "outputId": "091c6380-1509-4c69-cc9b-e220155dcd78"
      },
      "execution_count": 26,
      "outputs": [
        {
          "output_type": "stream",
          "name": "stdout",
          "text": [
            "[Errno 2] No such file or directory: 'LSTM'\n",
            "/content/LSTM\n"
          ]
        }
      ]
    },
    {
      "cell_type": "code",
      "source": [
        "!git pull"
      ],
      "metadata": {
        "id": "wLZ_n1_z7xPa",
        "outputId": "25dbddb4-71bc-4662-d8de-eef00594e129",
        "colab": {
          "base_uri": "https://localhost:8080/"
        }
      },
      "execution_count": 27,
      "outputs": [
        {
          "output_type": "stream",
          "name": "stdout",
          "text": [
            "fatal: not a git repository (or any of the parent directories): .git\n"
          ]
        }
      ]
    }
  ]
}