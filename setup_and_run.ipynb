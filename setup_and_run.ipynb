{
  "nbformat": 4,
  "nbformat_minor": 0,
  "metadata": {
    "colab": {
      "provenance": [],
      "authorship_tag": "ABX9TyNO2NF+wX2WRUELSXcmsx2G",
      "include_colab_link": true
    },
    "kernelspec": {
      "name": "python3",
      "display_name": "Python 3"
    },
    "language_info": {
      "name": "python"
    }
  },
  "cells": [
    {
      "cell_type": "markdown",
      "metadata": {
        "id": "view-in-github",
        "colab_type": "text"
      },
      "source": [
        "<a href=\"https://colab.research.google.com/github/luiz-oliveir/LSTM/blob/main/setup_and_run.ipynb\" target=\"_parent\"><img src=\"https://colab.research.google.com/assets/colab-badge.svg\" alt=\"Open In Colab\"/></a>"
      ]
    },
    {
      "cell_type": "code",
      "source": [
        "!git clone https://github.com/luiz-oliveir/LSTM.git"
      ],
      "metadata": {
        "id": "jy24BLVP70vG",
        "outputId": "0668384f-c4f3-46db-8d3c-13f504500a23",
        "colab": {
          "base_uri": "https://localhost:8080/"
        }
      },
      "execution_count": 2,
      "outputs": [
        {
          "output_type": "stream",
          "name": "stdout",
          "text": [
            "Cloning into 'LSTM'...\n",
            "remote: Enumerating objects: 23, done.\u001b[K\n",
            "remote: Counting objects: 100% (23/23), done.\u001b[K\n",
            "remote: Compressing objects: 100% (22/22), done.\u001b[K\n",
            "remote: Total 23 (delta 7), reused 0 (delta 0), pack-reused 0 (from 0)\u001b[K\n",
            "Receiving objects: 100% (23/23), 21.05 KiB | 10.53 MiB/s, done.\n",
            "Resolving deltas: 100% (7/7), done.\n"
          ]
        }
      ]
    },
    {
      "cell_type": "code",
      "source": [
        "import sys\n",
        "import os\n",
        "import subprocess\n",
        "import shutil\n",
        "from pathlib import Path\n",
        "import time\n",
        "\n",
        "# Check if running in Colab\n",
        "try:\n",
        "    import google.colab\n",
        "    IN_COLAB = True\n",
        "except ImportError:\n",
        "    IN_COLAB = False\n",
        "\n",
        "def run_command(cmd, check=True, shell=False):\n",
        "    \"\"\"Helper function to run commands and handle errors\"\"\"\n",
        "    try:\n",
        "        print(f\"Executando comando: {' '.join(str(x) for x in cmd)}\")\n",
        "        result = subprocess.run(cmd, check=check, shell=shell,\n",
        "                            stdout=subprocess.PIPE,\n",
        "                            stderr=subprocess.PIPE,\n",
        "                            universal_newlines=True)\n",
        "        print(f\"Output: {result.stdout}\")\n",
        "        return result\n",
        "    except subprocess.CalledProcessError as e:\n",
        "        print(f\"Command failed: {' '.join(str(x) for x in cmd)}\")\n",
        "        print(f\"Error output: {e.stderr}\")\n",
        "        return None\n",
        "\n",
        "def clone_repository():\n",
        "    \"\"\"Clone the GitHub repository if in Colab\"\"\"\n",
        "    if IN_COLAB:\n",
        "        # Change to /content directory\n",
        "        os.chdir('/content')\n",
        "\n",
        "        # Remove existing directory if it exists\n",
        "        if os.path.exists('/content/Anomaly_Detect_LSTM_VAE'):\n",
        "            print(\"Removing existing repository...\")\n",
        "            shutil.rmtree('/content/Anomaly_Detect_LSTM_VAE')\n",
        "\n",
        "        print(\"Cloning repository...\")\n",
        "        # Clone the repository\n",
        "        cmd = [\"git\", \"clone\", \"https://github.com/luiz-oliveir/LSTM.git\"]\n",
        "        result = run_command(cmd)\n",
        "\n",
        "        if result is None or result.returncode != 0:\n",
        "            print(\"Failed to clone repository\")\n",
        "            return False\n",
        "\n",
        "        # Verify the repository was cloned\n",
        "        if not os.path.exists('/content/LSTM'):\n",
        "            print(\"Repository directory not found after cloning\")\n",
        "            return False\n",
        "\n",
        "        print(\"Repository cloned successfully\")\n",
        "        # Change to the repository directory\n",
        "        os.chdir('/content/LSTM')\n",
        "        return True\n",
        "    return True\n",
        "\n",
        "def get_project_dir():\n",
        "    \"\"\"Get the project directory in Google Colab or local environment\"\"\"\n",
        "    if IN_COLAB:\n",
        "        # In Colab, project should be in /content after cloning\n",
        "        colab_path = Path('/content/LSTM')\n",
        "        print(f\"Checking Colab path: {colab_path}\")\n",
        "        print(f\"Path exists: {colab_path.exists()}\")\n",
        "        if colab_path.exists():\n",
        "            req_file = colab_path / 'requirements.txt'\n",
        "            print(f\"Requirements file exists: {req_file.exists()}\")\n",
        "            if req_file.exists():\n",
        "                return colab_path\n",
        "        print(\"Project directory not found in Colab\")\n",
        "        print(\"Current directory:\", os.getcwd())\n",
        "        print(\"Directory contents:\", os.listdir())\n",
        "        return None\n",
        "    else:\n",
        "        # Local development paths\n",
        "        potential_locations = [\n",
        "            Path('C:/Users/Augusto-PC/Documents/GitHub/LSTM'),\n",
        "            Path(os.getcwd()),\n",
        "            Path(os.path.expanduser('~/LSTM'))\n",
        "        ]\n",
        "\n",
        "        for location in potential_locations:\n",
        "            try:\n",
        "                if location.exists() and (location / 'requirements.txt').exists():\n",
        "                    return location\n",
        "            except Exception:\n",
        "                continue\n",
        "\n",
        "        print(\"Could not find project directory containing requirements.txt\")\n",
        "        return None\n",
        "\n",
        "def setup_environment():\n",
        "    \"\"\"Setup the Python environment with required packages\"\"\"\n",
        "    if IN_COLAB:\n",
        "        print(\"Running in Google Colab environment\")\n",
        "        # Clone repository first if in Colab\n",
        "        if not clone_repository():\n",
        "            return False\n",
        "\n",
        "    project_dir = get_project_dir()\n",
        "    if project_dir is None:\n",
        "        print(\"Failed to locate project directory\")\n",
        "        return False\n",
        "\n",
        "    print(f\"Found project directory at: {project_dir}\")\n",
        "\n",
        "    # Install requirements\n",
        "    requirements_file = project_dir / 'requirements.txt'\n",
        "    if requirements_file.exists():\n",
        "        print(\"Installing requirements...\")\n",
        "        cmd = [sys.executable, \"-m\", \"pip\", \"install\", \"-r\", str(requirements_file)]\n",
        "        result = run_command(cmd)\n",
        "        if result is None:\n",
        "            return False\n",
        "    else:\n",
        "        print(f\"Requirements file not found at {requirements_file}\")\n",
        "        return False\n",
        "\n",
        "    return True\n",
        "\n",
        "def run_notebook(project_dir):\n",
        "    \"\"\"Run the main notebook\"\"\"\n",
        "    notebook_path = project_dir / 'LSTM_VAE com ajustes.ipynb'\n",
        "    if not notebook_path.exists():\n",
        "        print(f\"Notebook not found at {notebook_path}\")\n",
        "        return\n",
        "\n",
        "    print(f\"Running notebook: {notebook_path}\")\n",
        "    cmd = [\"jupyter\", \"nbconvert\",\n",
        "           \"--to\", \"notebook\",\n",
        "           \"--execute\",\n",
        "           \"--inplace\",\n",
        "           str(notebook_path)]\n",
        "    run_command(cmd)\n",
        "\n",
        "if __name__ == '__main__':\n",
        "    if setup_environment():\n",
        "        project_dir = get_project_dir()\n",
        "        if project_dir:\n",
        "            run_notebook(project_dir)"
      ],
      "metadata": {
        "id": "7J98WncW5ev_",
        "outputId": "ddab0470-6b96-405a-cf29-fdc270c8979a",
        "colab": {
          "base_uri": "https://localhost:8080/"
        }
      },
      "execution_count": 3,
      "outputs": [
        {
          "output_type": "stream",
          "name": "stdout",
          "text": [
            "Running in Google Colab environment\n",
            "Cloning repository...\n",
            "Executando comando: git clone https://github.com/luiz-oliveir/LSTM.git\n",
            "Command failed: git clone https://github.com/luiz-oliveir/LSTM.git\n",
            "Error output: fatal: destination path 'LSTM' already exists and is not an empty directory.\n",
            "\n",
            "Failed to clone repository\n"
          ]
        }
      ]
    },
    {
      "cell_type": "code",
      "source": [],
      "metadata": {
        "id": "wLZ_n1_z7xPa"
      },
      "execution_count": null,
      "outputs": []
    }
  ]
}